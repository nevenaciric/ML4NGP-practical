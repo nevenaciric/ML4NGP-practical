{
 "cells": [
  {
   "cell_type": "markdown",
   "metadata": {},
   "source": [
    "Importing the Python packages "
   ]
  },
  {
   "cell_type": "code",
   "execution_count": 1,
   "metadata": {},
   "outputs": [],
   "source": [
    "import pandas as pd\n",
    "import numpy as np\n",
    "import matplotlib.pyplot as plt"
   ]
  },
  {
   "cell_type": "code",
   "execution_count": 2,
   "metadata": {},
   "outputs": [],
   "source": [
    "from sklearn import model_selection\n",
    "from sklearn import feature_extraction\n",
    "from sklearn import linear_model\n",
    "from sklearn import svm\n",
    "from sklearn import neighbors\n",
    "from sklearn import metrics"
   ]
  },
  {
   "cell_type": "code",
   "execution_count": 3,
   "metadata": {},
   "outputs": [],
   "source": [
    "from warnings import filterwarnings\n",
    "filterwarnings('ignore')"
   ]
  },
  {
   "cell_type": "markdown",
   "metadata": {},
   "source": [
    "## Loading dataset"
   ]
  },
  {
   "cell_type": "markdown",
   "metadata": {},
   "source": [
    "Loading the pre-prepared dataset of disordered and ordered protein regions using the <code>pandas</code> package. Function <code>read_csv</code> reads from file in CSV (Comma-Separated Values) format and stores the data into the <code>DataFrame</code> object. <code>DataFrame</code> is a <code>pandas</code> 2-dimensional data structure that is used for storing tabular data, i.e. data that is organized in a table with rows and columns."
   ]
  },
  {
   "cell_type": "code",
   "execution_count": 4,
   "metadata": {},
   "outputs": [],
   "source": [
    "data = pd.read_csv('data/DisProt_PDB_dataset.csv')"
   ]
  },
  {
   "cell_type": "code",
   "execution_count": 5,
   "metadata": {},
   "outputs": [
    {
     "data": {
      "text/html": [
       "<div>\n",
       "<style scoped>\n",
       "    .dataframe tbody tr th:only-of-type {\n",
       "        vertical-align: middle;\n",
       "    }\n",
       "\n",
       "    .dataframe tbody tr th {\n",
       "        vertical-align: top;\n",
       "    }\n",
       "\n",
       "    .dataframe thead th {\n",
       "        text-align: right;\n",
       "    }\n",
       "</style>\n",
       "<table border=\"1\" class=\"dataframe\">\n",
       "  <thead>\n",
       "    <tr style=\"text-align: right;\">\n",
       "      <th></th>\n",
       "      <th>ID</th>\n",
       "      <th>sequence</th>\n",
       "      <th>class</th>\n",
       "    </tr>\n",
       "  </thead>\n",
       "  <tbody>\n",
       "    <tr>\n",
       "      <th>0</th>\n",
       "      <td>DP00003r002</td>\n",
       "      <td>EHVIEMDVTSENGQRALKEQSSKAKIVKNRWGRNVVQISNT</td>\n",
       "      <td>disorder</td>\n",
       "    </tr>\n",
       "    <tr>\n",
       "      <th>1</th>\n",
       "      <td>DP00003r004</td>\n",
       "      <td>VYRNSRAQGGG</td>\n",
       "      <td>disorder</td>\n",
       "    </tr>\n",
       "    <tr>\n",
       "      <th>2</th>\n",
       "      <td>DP00004r001</td>\n",
       "      <td>LLGDFFRKSKEKIGKEFKRIVQRIKDFLRNLVPRTES</td>\n",
       "      <td>disorder</td>\n",
       "    </tr>\n",
       "    <tr>\n",
       "      <th>3</th>\n",
       "      <td>DP00005r017</td>\n",
       "      <td>MDAQTRRRERRAEKQAQWKAANPLLVGVSAKPVNRPILSLNRKPKS...</td>\n",
       "      <td>disorder</td>\n",
       "    </tr>\n",
       "    <tr>\n",
       "      <th>4</th>\n",
       "      <td>DP00006r014</td>\n",
       "      <td>GDVEKGKKIFVQKCAQCHTVEKGGKHKTGPNLHGLFGRKTGQAPGF...</td>\n",
       "      <td>disorder</td>\n",
       "    </tr>\n",
       "  </tbody>\n",
       "</table>\n",
       "</div>"
      ],
      "text/plain": [
       "            ID                                           sequence     class\n",
       "0  DP00003r002          EHVIEMDVTSENGQRALKEQSSKAKIVKNRWGRNVVQISNT  disorder\n",
       "1  DP00003r004                                        VYRNSRAQGGG  disorder\n",
       "2  DP00004r001              LLGDFFRKSKEKIGKEFKRIVQRIKDFLRNLVPRTES  disorder\n",
       "3  DP00005r017  MDAQTRRRERRAEKQAQWKAANPLLVGVSAKPVNRPILSLNRKPKS...  disorder\n",
       "4  DP00006r014  GDVEKGKKIFVQKCAQCHTVEKGGKHKTGPNLHGLFGRKTGQAPGF...  disorder"
      ]
     },
     "execution_count": 5,
     "metadata": {},
     "output_type": "execute_result"
    }
   ],
   "source": [
    "data.head()"
   ]
  },
  {
   "cell_type": "markdown",
   "metadata": {},
   "source": [
    "Setting column <code>'ID'</code> as the index of the <code>DataFrame</code> object."
   ]
  },
  {
   "cell_type": "code",
   "execution_count": 6,
   "metadata": {},
   "outputs": [],
   "source": [
    "data.set_index(\"ID\", inplace=True)"
   ]
  },
  {
   "cell_type": "code",
   "execution_count": 7,
   "metadata": {},
   "outputs": [
    {
     "data": {
      "text/html": [
       "<div>\n",
       "<style scoped>\n",
       "    .dataframe tbody tr th:only-of-type {\n",
       "        vertical-align: middle;\n",
       "    }\n",
       "\n",
       "    .dataframe tbody tr th {\n",
       "        vertical-align: top;\n",
       "    }\n",
       "\n",
       "    .dataframe thead th {\n",
       "        text-align: right;\n",
       "    }\n",
       "</style>\n",
       "<table border=\"1\" class=\"dataframe\">\n",
       "  <thead>\n",
       "    <tr style=\"text-align: right;\">\n",
       "      <th></th>\n",
       "      <th>sequence</th>\n",
       "      <th>class</th>\n",
       "    </tr>\n",
       "    <tr>\n",
       "      <th>ID</th>\n",
       "      <th></th>\n",
       "      <th></th>\n",
       "    </tr>\n",
       "  </thead>\n",
       "  <tbody>\n",
       "    <tr>\n",
       "      <th>DP00003r002</th>\n",
       "      <td>EHVIEMDVTSENGQRALKEQSSKAKIVKNRWGRNVVQISNT</td>\n",
       "      <td>disorder</td>\n",
       "    </tr>\n",
       "    <tr>\n",
       "      <th>DP00003r004</th>\n",
       "      <td>VYRNSRAQGGG</td>\n",
       "      <td>disorder</td>\n",
       "    </tr>\n",
       "    <tr>\n",
       "      <th>DP00004r001</th>\n",
       "      <td>LLGDFFRKSKEKIGKEFKRIVQRIKDFLRNLVPRTES</td>\n",
       "      <td>disorder</td>\n",
       "    </tr>\n",
       "    <tr>\n",
       "      <th>DP00005r017</th>\n",
       "      <td>MDAQTRRRERRAEKQAQWKAANPLLVGVSAKPVNRPILSLNRKPKS...</td>\n",
       "      <td>disorder</td>\n",
       "    </tr>\n",
       "    <tr>\n",
       "      <th>DP00006r014</th>\n",
       "      <td>GDVEKGKKIFVQKCAQCHTVEKGGKHKTGPNLHGLFGRKTGQAPGF...</td>\n",
       "      <td>disorder</td>\n",
       "    </tr>\n",
       "  </tbody>\n",
       "</table>\n",
       "</div>"
      ],
      "text/plain": [
       "                                                      sequence     class\n",
       "ID                                                                      \n",
       "DP00003r002          EHVIEMDVTSENGQRALKEQSSKAKIVKNRWGRNVVQISNT  disorder\n",
       "DP00003r004                                        VYRNSRAQGGG  disorder\n",
       "DP00004r001              LLGDFFRKSKEKIGKEFKRIVQRIKDFLRNLVPRTES  disorder\n",
       "DP00005r017  MDAQTRRRERRAEKQAQWKAANPLLVGVSAKPVNRPILSLNRKPKS...  disorder\n",
       "DP00006r014  GDVEKGKKIFVQKCAQCHTVEKGGKHKTGPNLHGLFGRKTGQAPGF...  disorder"
      ]
     },
     "execution_count": 7,
     "metadata": {},
     "output_type": "execute_result"
    }
   ],
   "source": [
    "data.head()"
   ]
  },
  {
   "cell_type": "markdown",
   "metadata": {},
   "source": [
    "## Dataset analysis"
   ]
  },
  {
   "cell_type": "markdown",
   "metadata": {},
   "source": [
    "Dimensions of the <code>DataFrame</code> object, i.e. the size of our dataset."
   ]
  },
  {
   "cell_type": "code",
   "execution_count": 8,
   "metadata": {},
   "outputs": [
    {
     "data": {
      "text/plain": [
       "(12743, 2)"
      ]
     },
     "execution_count": 8,
     "metadata": {},
     "output_type": "execute_result"
    }
   ],
   "source": [
    "data.shape"
   ]
  },
  {
   "cell_type": "markdown",
   "metadata": {},
   "source": [
    "Class distribution:"
   ]
  },
  {
   "cell_type": "code",
   "execution_count": 9,
   "metadata": {},
   "outputs": [
    {
     "data": {
      "text/plain": [
       "order       8511\n",
       "disorder    4232\n",
       "Name: class, dtype: int64"
      ]
     },
     "execution_count": 9,
     "metadata": {},
     "output_type": "execute_result"
    }
   ],
   "source": [
    "data['class'].value_counts()"
   ]
  },
  {
   "cell_type": "markdown",
   "metadata": {},
   "source": [
    "## Splitting dataset into a training and test subsets"
   ]
  },
  {
   "cell_type": "markdown",
   "metadata": {},
   "source": [
    "Dataset is split into a training and test subsets in ratio 2:1. The splitting of the dataset is done using the stratification technique (parameter <code>stratify</code>) that preserves the same proportions of instances in each class as observed in the original dataset. The value of the parameter <code>random_state</code> is fixed in order to make reproducible train-test split."
   ]
  },
  {
   "cell_type": "code",
   "execution_count": 10,
   "metadata": {},
   "outputs": [],
   "source": [
    "x = data['sequence']\n",
    "y = data['class']"
   ]
  },
  {
   "cell_type": "code",
   "execution_count": 11,
   "metadata": {},
   "outputs": [],
   "source": [
    "x_train, x_test, y_train, y_test = model_selection.train_test_split(x, y, test_size=0.33, stratify=y, random_state=7)"
   ]
  },
  {
   "cell_type": "code",
   "execution_count": 12,
   "metadata": {},
   "outputs": [
    {
     "data": {
      "text/plain": [
       "8537"
      ]
     },
     "execution_count": 12,
     "metadata": {},
     "output_type": "execute_result"
    }
   ],
   "source": [
    "len(x_train)"
   ]
  },
  {
   "cell_type": "code",
   "execution_count": 13,
   "metadata": {},
   "outputs": [
    {
     "data": {
      "text/plain": [
       "4206"
      ]
     },
     "execution_count": 13,
     "metadata": {},
     "output_type": "execute_result"
    }
   ],
   "source": [
    "len(x_test)"
   ]
  },
  {
   "cell_type": "markdown",
   "metadata": {},
   "source": [
    "# N-gram sequence representation"
   ]
  },
  {
   "cell_type": "markdown",
   "metadata": {},
   "source": [
    "Knowing that certain amino acids and their combinations are more likely (i.e. frequent) in ordered than disordered protein regions<a name=\"cite_ref-1\"></a>[<sup>[1]</sup>](#cite_note-1), n-gram representation of protein sequences come as a natural choice. Based on the n-gram composition, different representations of protein sequences, suitable for machine learning models, can be constructed. Two basic methods, inherited from the field of Natural Language Processing, are:\n",
    "- *Bag of Words* or *Bag of n-grams* method\n",
    "- *TF-IDF* (Term Frequency - Inverse Document Frequency) method \n",
    "\n",
    "We can easily generate these two types of n-gram-based sequence representation using the <code>feature_extraction</code> module (<code>text</code> submodule) from <code>sklearn</code> package.\n",
    "\n",
    "<a name=\"cite_note-1\"></a>[<sup>[1]</sup>](#cite_ref-1)Hydrophobic amino acids, more precisely clusters of hydrophobic amino acids are characteristical for ordered regions of proteins, while the hydrophilic amino acids are more prevalent in disordered regions."
   ]
  },
  {
   "cell_type": "markdown",
   "metadata": {},
   "source": [
    "## Bag of Words representations"
   ]
  },
  {
   "cell_type": "markdown",
   "metadata": {},
   "source": [
    "Firstly we well try with Bag of Words representations and train several types of classification models. Scikit-learn library provides support for n-gram sequence representation using the *Bag of Words method*  through the <code>CountVectorizer</code> class. Constructor function has various settings, mainly related to the preprocessing phase:\n",
    "- <code>analyzer</code> - whether to tokenize text by the words or individual characters \n",
    "- <code>ngram_range</code> - the lower and upper boundary of the range of char n-grams to be extracted, only applies if analyzer is set to 'char'; e.g. an n-gram range of (1, 3) means that only unigrams, bigrams and trigrams will be extracted\n",
    "- <code>min_df</code> - lower cutoff value of the frequency values, used for excluding tokens that have a frequency less than a given threshold \n",
    "- <code>max_df</code> - upper cutoff value of the frequency values, used for excluding tokens that have a frequency higher than a given threshold \n",
    "- <code>lowercase</code> - converting all characters to lowercase before tokenizing\n",
    "- <code>stop_words</code> - excluding common words or words that are considered irrelevant for the specific problem\n",
    "- <code>token_pattern</code> - excluding words that do not match a predefined format \n",
    "- <code>tokenizer</code> i <code>preprocessor</code> - passing a custom function to perform tokenization/preprocessing \n",
    "- <code>vocabulary</code> - assigning a pre-prepared vocabulary"
   ]
  },
  {
   "cell_type": "markdown",
   "metadata": {},
   "source": [
    "We will set only the parameters <code>analyzer</code>, <code>ngram_range</code> and <code>min_df</code>, while default values will be taken for other parameters. We want to split text (protein sequences) by individual characters while extracting only the unigrams, bigrams and trigrams. Also we will want to exclude n-grams that appear less than 5 times."
   ]
  },
  {
   "cell_type": "code",
   "execution_count": 14,
   "metadata": {},
   "outputs": [],
   "source": [
    "count_vectorizer = feature_extraction.text.CountVectorizer(analyzer='char', ngram_range=(1, 3), min_df=5)"
   ]
  },
  {
   "cell_type": "markdown",
   "metadata": {},
   "source": [
    "Vocabulary<a name=\"cite_ref-2\"></a>[<sup>[2]</sup>](#cite_note-2) is, by rule, built over a training set. Later, while obtaining vector representations for test set instances, all unknown tokens (n-grams that are not present in the vocabulary) will be ignored.\n",
    "\n",
    "<a name=\"cite_note-2\"></a>[<sup>[2]</sup>](#cite_ref-2)Set of features (words or in our case n-grams) which will be used for sequence representations."
   ]
  },
  {
   "cell_type": "code",
   "execution_count": 15,
   "metadata": {},
   "outputs": [
    {
     "data": {
      "text/plain": [
       "CountVectorizer(analyzer='char', min_df=5, ngram_range=(1, 3))"
      ]
     },
     "execution_count": 15,
     "metadata": {},
     "output_type": "execute_result"
    }
   ],
   "source": [
    "count_vectorizer.fit(x_train)"
   ]
  },
  {
   "cell_type": "markdown",
   "metadata": {},
   "source": [
    "A list of extracted features (n-grams) can be obtained by method <code>get_feature_names()</code>."
   ]
  },
  {
   "cell_type": "code",
   "execution_count": 16,
   "metadata": {},
   "outputs": [
    {
     "data": {
      "text/plain": [
       "['a',\n",
       " 'aa',\n",
       " 'aaa',\n",
       " 'aac',\n",
       " 'aad',\n",
       " 'aae',\n",
       " 'aaf',\n",
       " 'aag',\n",
       " 'aah',\n",
       " 'aai',\n",
       " 'aak',\n",
       " 'aal',\n",
       " 'aam',\n",
       " 'aan',\n",
       " 'aap',\n",
       " 'aaq',\n",
       " 'aar',\n",
       " 'aas',\n",
       " 'aat',\n",
       " 'aav',\n",
       " 'aaw',\n",
       " 'aay',\n",
       " 'ac',\n",
       " 'aca',\n",
       " 'acc',\n",
       " 'acd',\n",
       " 'ace',\n",
       " 'acf',\n",
       " 'acg',\n",
       " 'ach',\n",
       " 'aci',\n",
       " 'ack',\n",
       " 'acl',\n",
       " 'acm',\n",
       " 'acn',\n",
       " 'acp',\n",
       " 'acq',\n",
       " 'acr',\n",
       " 'acs',\n",
       " 'act',\n",
       " 'acv',\n",
       " 'acw',\n",
       " 'acy',\n",
       " 'ad',\n",
       " 'ada',\n",
       " 'adc',\n",
       " 'add',\n",
       " 'ade',\n",
       " 'adf',\n",
       " 'adg',\n",
       " 'adh',\n",
       " 'adi',\n",
       " 'adk',\n",
       " 'adl',\n",
       " 'adm',\n",
       " 'adn',\n",
       " 'adp',\n",
       " 'adq',\n",
       " 'adr',\n",
       " 'ads',\n",
       " 'adt',\n",
       " 'adv',\n",
       " 'adw',\n",
       " 'ady',\n",
       " 'ae',\n",
       " 'aea',\n",
       " 'aec',\n",
       " 'aed',\n",
       " 'aee',\n",
       " 'aef',\n",
       " 'aeg',\n",
       " 'aeh',\n",
       " 'aei',\n",
       " 'aek',\n",
       " 'ael',\n",
       " 'aem',\n",
       " 'aen',\n",
       " 'aep',\n",
       " 'aeq',\n",
       " 'aer',\n",
       " 'aes',\n",
       " 'aet',\n",
       " 'aev',\n",
       " 'aew',\n",
       " 'aey',\n",
       " 'af',\n",
       " 'afa',\n",
       " 'afc',\n",
       " 'afd',\n",
       " 'afe',\n",
       " 'aff',\n",
       " 'afg',\n",
       " 'afh',\n",
       " 'afi',\n",
       " 'afk',\n",
       " 'afl',\n",
       " 'afm',\n",
       " 'afn',\n",
       " 'afp',\n",
       " 'afq',\n",
       " 'afr',\n",
       " 'afs',\n",
       " 'aft',\n",
       " 'afv',\n",
       " 'afw',\n",
       " 'afy',\n",
       " 'ag',\n",
       " 'aga',\n",
       " 'agc',\n",
       " 'agd',\n",
       " 'age',\n",
       " 'agf',\n",
       " 'agg',\n",
       " 'agh',\n",
       " 'agi',\n",
       " 'agk',\n",
       " 'agl',\n",
       " 'agm',\n",
       " 'agn',\n",
       " 'agp',\n",
       " 'agq',\n",
       " 'agr',\n",
       " 'ags',\n",
       " 'agt',\n",
       " 'agv',\n",
       " 'agw',\n",
       " 'agy',\n",
       " 'ah',\n",
       " 'aha',\n",
       " 'ahc',\n",
       " 'ahd',\n",
       " 'ahe',\n",
       " 'ahf',\n",
       " 'ahg',\n",
       " 'ahh',\n",
       " 'ahi',\n",
       " 'ahk',\n",
       " 'ahl',\n",
       " 'ahm',\n",
       " 'ahn',\n",
       " 'ahp',\n",
       " 'ahq',\n",
       " 'ahr',\n",
       " 'ahs',\n",
       " 'aht',\n",
       " 'ahv',\n",
       " 'ahw',\n",
       " 'ahy',\n",
       " 'ai',\n",
       " 'aia',\n",
       " 'aic',\n",
       " 'aid',\n",
       " 'aie',\n",
       " 'aif',\n",
       " 'aig',\n",
       " 'aih',\n",
       " 'aii',\n",
       " 'aik',\n",
       " 'ail',\n",
       " 'aim',\n",
       " 'ain',\n",
       " 'aip',\n",
       " 'aiq',\n",
       " 'air',\n",
       " 'ais',\n",
       " 'ait',\n",
       " 'aiv',\n",
       " 'aiw',\n",
       " 'aiy',\n",
       " 'ak',\n",
       " 'aka',\n",
       " 'akc',\n",
       " 'akd',\n",
       " 'ake',\n",
       " 'akf',\n",
       " 'akg',\n",
       " 'akh',\n",
       " 'aki',\n",
       " 'akk',\n",
       " 'akl',\n",
       " 'akm',\n",
       " 'akn',\n",
       " 'akp',\n",
       " 'akq',\n",
       " 'akr',\n",
       " 'aks',\n",
       " 'akt',\n",
       " 'akv',\n",
       " 'akw',\n",
       " 'aky',\n",
       " 'al',\n",
       " 'ala',\n",
       " 'alc',\n",
       " 'ald',\n",
       " 'ale',\n",
       " 'alf',\n",
       " 'alg',\n",
       " 'alh',\n",
       " 'ali',\n",
       " 'alk',\n",
       " 'all',\n",
       " 'alm',\n",
       " 'aln',\n",
       " 'alp',\n",
       " 'alq',\n",
       " 'alr',\n",
       " 'als',\n",
       " 'alt',\n",
       " 'alv',\n",
       " 'alw',\n",
       " 'aly',\n",
       " 'am',\n",
       " 'ama',\n",
       " 'amc',\n",
       " 'amd',\n",
       " 'ame',\n",
       " 'amf',\n",
       " 'amg',\n",
       " 'amh',\n",
       " 'ami',\n",
       " 'amk',\n",
       " 'aml',\n",
       " 'amm',\n",
       " 'amn',\n",
       " 'amp',\n",
       " 'amq',\n",
       " 'amr',\n",
       " 'ams',\n",
       " 'amt',\n",
       " 'amv',\n",
       " 'amw',\n",
       " 'amy',\n",
       " 'an',\n",
       " 'ana',\n",
       " 'anc',\n",
       " 'and',\n",
       " 'ane',\n",
       " 'anf',\n",
       " 'ang',\n",
       " 'anh',\n",
       " 'ani',\n",
       " 'ank',\n",
       " 'anl',\n",
       " 'anm',\n",
       " 'ann',\n",
       " 'anp',\n",
       " 'anq',\n",
       " 'anr',\n",
       " 'ans',\n",
       " 'ant',\n",
       " 'anv',\n",
       " 'anw',\n",
       " 'any',\n",
       " 'ap',\n",
       " 'apa',\n",
       " 'apc',\n",
       " 'apd',\n",
       " 'ape',\n",
       " 'apf',\n",
       " 'apg',\n",
       " 'aph',\n",
       " 'api',\n",
       " 'apk',\n",
       " 'apl',\n",
       " 'apm',\n",
       " 'apn',\n",
       " 'app',\n",
       " 'apq',\n",
       " 'apr',\n",
       " 'aps',\n",
       " 'apt',\n",
       " 'apv',\n",
       " 'apw',\n",
       " 'apy',\n",
       " 'aq',\n",
       " 'aqa',\n",
       " 'aqc',\n",
       " 'aqd',\n",
       " 'aqe',\n",
       " 'aqf',\n",
       " 'aqg',\n",
       " 'aqh',\n",
       " 'aqi',\n",
       " 'aqk',\n",
       " 'aql',\n",
       " 'aqm',\n",
       " 'aqn',\n",
       " 'aqp',\n",
       " 'aqq',\n",
       " 'aqr',\n",
       " 'aqs',\n",
       " 'aqt',\n",
       " 'aqv',\n",
       " 'aqw',\n",
       " 'aqy',\n",
       " 'ar',\n",
       " 'ara',\n",
       " 'arc',\n",
       " 'ard',\n",
       " 'are',\n",
       " 'arf',\n",
       " 'arg',\n",
       " 'arh',\n",
       " 'ari',\n",
       " 'ark',\n",
       " 'arl',\n",
       " 'arm',\n",
       " 'arn',\n",
       " 'arp',\n",
       " 'arq',\n",
       " 'arr',\n",
       " 'ars',\n",
       " 'art',\n",
       " 'arv',\n",
       " 'arw',\n",
       " 'ary',\n",
       " 'as',\n",
       " 'asa',\n",
       " 'asc',\n",
       " 'asd',\n",
       " 'ase',\n",
       " 'asf',\n",
       " 'asg',\n",
       " 'ash',\n",
       " 'asi',\n",
       " 'ask',\n",
       " 'asl',\n",
       " 'asm',\n",
       " 'asn',\n",
       " 'asp',\n",
       " 'asq',\n",
       " 'asr',\n",
       " 'ass',\n",
       " 'ast',\n",
       " 'asv',\n",
       " 'asw',\n",
       " 'asy',\n",
       " 'at',\n",
       " 'ata',\n",
       " 'atc',\n",
       " 'atd',\n",
       " 'ate',\n",
       " 'atf',\n",
       " 'atg',\n",
       " 'ath',\n",
       " 'ati',\n",
       " 'atk',\n",
       " 'atl',\n",
       " 'atm',\n",
       " 'atn',\n",
       " 'atp',\n",
       " 'atq',\n",
       " 'atr',\n",
       " 'ats',\n",
       " 'att',\n",
       " 'atv',\n",
       " 'atw',\n",
       " 'aty',\n",
       " 'av',\n",
       " 'ava',\n",
       " 'avc',\n",
       " 'avd',\n",
       " 'ave',\n",
       " 'avf',\n",
       " 'avg',\n",
       " 'avh',\n",
       " 'avi',\n",
       " 'avk',\n",
       " 'avl',\n",
       " 'avm',\n",
       " 'avn',\n",
       " 'avp',\n",
       " 'avq',\n",
       " 'avr',\n",
       " 'avs',\n",
       " 'avt',\n",
       " 'avv',\n",
       " 'avw',\n",
       " 'avy',\n",
       " 'aw',\n",
       " 'awa',\n",
       " 'awc',\n",
       " 'awd',\n",
       " 'awe',\n",
       " 'awf',\n",
       " 'awg',\n",
       " 'awh',\n",
       " 'awi',\n",
       " 'awk',\n",
       " 'awl',\n",
       " 'awm',\n",
       " 'awn',\n",
       " 'awp',\n",
       " 'awq',\n",
       " 'awr',\n",
       " 'aws',\n",
       " 'awt',\n",
       " 'awv',\n",
       " 'aww',\n",
       " 'awy',\n",
       " 'ay',\n",
       " 'aya',\n",
       " 'ayc',\n",
       " 'ayd',\n",
       " 'aye',\n",
       " 'ayf',\n",
       " 'ayg',\n",
       " 'ayh',\n",
       " 'ayi',\n",
       " 'ayk',\n",
       " 'ayl',\n",
       " 'aym',\n",
       " 'ayn',\n",
       " 'ayp',\n",
       " 'ayq',\n",
       " 'ayr',\n",
       " 'ays',\n",
       " 'ayt',\n",
       " 'ayv',\n",
       " 'ayw',\n",
       " 'ayy',\n",
       " 'c',\n",
       " 'ca',\n",
       " 'caa',\n",
       " 'cac',\n",
       " 'cad',\n",
       " 'cae',\n",
       " 'caf',\n",
       " 'cag',\n",
       " 'cah',\n",
       " 'cai',\n",
       " 'cak',\n",
       " 'cal',\n",
       " 'cam',\n",
       " 'can',\n",
       " 'cap',\n",
       " 'caq',\n",
       " 'car',\n",
       " 'cas',\n",
       " 'cat',\n",
       " 'cav',\n",
       " 'caw',\n",
       " 'cay',\n",
       " 'cc',\n",
       " 'cca',\n",
       " 'ccc',\n",
       " 'ccd',\n",
       " 'cce',\n",
       " 'ccf',\n",
       " 'ccg',\n",
       " 'cch',\n",
       " 'cci',\n",
       " 'cck',\n",
       " 'ccl',\n",
       " 'ccm',\n",
       " 'ccn',\n",
       " 'ccp',\n",
       " 'ccq',\n",
       " 'ccr',\n",
       " 'ccs',\n",
       " 'cct',\n",
       " 'ccv',\n",
       " 'ccy',\n",
       " 'cd',\n",
       " 'cda',\n",
       " 'cdc',\n",
       " 'cdd',\n",
       " 'cde',\n",
       " 'cdf',\n",
       " 'cdg',\n",
       " 'cdh',\n",
       " 'cdi',\n",
       " 'cdk',\n",
       " 'cdl',\n",
       " 'cdm',\n",
       " 'cdn',\n",
       " 'cdp',\n",
       " 'cdq',\n",
       " 'cdr',\n",
       " 'cds',\n",
       " 'cdt',\n",
       " 'cdv',\n",
       " 'cdw',\n",
       " 'cdy',\n",
       " 'ce',\n",
       " 'cea',\n",
       " 'cec',\n",
       " 'ced',\n",
       " 'cee',\n",
       " 'cef',\n",
       " 'ceg',\n",
       " 'ceh',\n",
       " 'cei',\n",
       " 'cek',\n",
       " 'cel',\n",
       " 'cem',\n",
       " 'cen',\n",
       " 'cep',\n",
       " 'ceq',\n",
       " 'cer',\n",
       " 'ces',\n",
       " 'cet',\n",
       " 'cev',\n",
       " 'cew',\n",
       " 'cey',\n",
       " 'cf',\n",
       " 'cfa',\n",
       " 'cfc',\n",
       " 'cfd',\n",
       " 'cfe',\n",
       " 'cff',\n",
       " 'cfg',\n",
       " 'cfh',\n",
       " 'cfi',\n",
       " 'cfk',\n",
       " 'cfl',\n",
       " 'cfm',\n",
       " 'cfn',\n",
       " 'cfp',\n",
       " 'cfq',\n",
       " 'cfr',\n",
       " 'cfs',\n",
       " 'cft',\n",
       " 'cfv',\n",
       " 'cfw',\n",
       " 'cfy',\n",
       " 'cg',\n",
       " 'cga',\n",
       " 'cgc',\n",
       " 'cgd',\n",
       " 'cge',\n",
       " 'cgf',\n",
       " 'cgg',\n",
       " 'cgh',\n",
       " 'cgi',\n",
       " 'cgk',\n",
       " 'cgl',\n",
       " 'cgm',\n",
       " 'cgn',\n",
       " 'cgp',\n",
       " 'cgq',\n",
       " 'cgr',\n",
       " 'cgs',\n",
       " 'cgt',\n",
       " 'cgv',\n",
       " 'cgw',\n",
       " 'cgy',\n",
       " 'ch',\n",
       " 'cha',\n",
       " 'chc',\n",
       " 'chd',\n",
       " 'che',\n",
       " 'chf',\n",
       " 'chg',\n",
       " 'chh',\n",
       " 'chi',\n",
       " 'chk',\n",
       " 'chl',\n",
       " 'chm',\n",
       " 'chn',\n",
       " 'chp',\n",
       " 'chq',\n",
       " 'chr',\n",
       " 'chs',\n",
       " 'cht',\n",
       " 'chv',\n",
       " 'chw',\n",
       " 'chy',\n",
       " 'ci',\n",
       " 'cia',\n",
       " 'cic',\n",
       " 'cid',\n",
       " 'cie',\n",
       " 'cif',\n",
       " 'cig',\n",
       " 'cih',\n",
       " 'cii',\n",
       " 'cik',\n",
       " 'cil',\n",
       " 'cim',\n",
       " 'cin',\n",
       " 'cip',\n",
       " 'ciq',\n",
       " 'cir',\n",
       " 'cis',\n",
       " 'cit',\n",
       " 'civ',\n",
       " 'ciw',\n",
       " 'ciy',\n",
       " 'ck',\n",
       " 'cka',\n",
       " 'ckc',\n",
       " 'ckd',\n",
       " 'cke',\n",
       " 'ckf',\n",
       " 'ckg',\n",
       " 'ckh',\n",
       " 'cki',\n",
       " 'ckk',\n",
       " 'ckl',\n",
       " 'ckm',\n",
       " 'ckn',\n",
       " 'ckp',\n",
       " 'ckq',\n",
       " 'ckr',\n",
       " 'cks',\n",
       " 'ckt',\n",
       " 'ckv',\n",
       " 'ckw',\n",
       " 'cky',\n",
       " 'cl',\n",
       " 'cla',\n",
       " 'clc',\n",
       " 'cld',\n",
       " 'cle',\n",
       " 'clf',\n",
       " 'clg',\n",
       " 'clh',\n",
       " 'cli',\n",
       " 'clk',\n",
       " 'cll',\n",
       " 'clm',\n",
       " 'cln',\n",
       " 'clp',\n",
       " 'clq',\n",
       " 'clr',\n",
       " 'cls',\n",
       " 'clt',\n",
       " 'clv',\n",
       " 'clw',\n",
       " 'cly',\n",
       " 'cm',\n",
       " 'cma',\n",
       " 'cmd',\n",
       " 'cme',\n",
       " 'cmf',\n",
       " 'cmg',\n",
       " 'cmh',\n",
       " 'cmi',\n",
       " 'cmk',\n",
       " 'cml',\n",
       " 'cmm',\n",
       " 'cmn',\n",
       " 'cmp',\n",
       " 'cmq',\n",
       " 'cmr',\n",
       " 'cms',\n",
       " 'cmt',\n",
       " 'cmv',\n",
       " 'cmy',\n",
       " 'cn',\n",
       " 'cna',\n",
       " 'cnc',\n",
       " 'cnd',\n",
       " 'cne',\n",
       " 'cnf',\n",
       " 'cng',\n",
       " 'cnh',\n",
       " 'cni',\n",
       " 'cnk',\n",
       " 'cnl',\n",
       " 'cnm',\n",
       " 'cnn',\n",
       " 'cnp',\n",
       " 'cnq',\n",
       " 'cnr',\n",
       " 'cns',\n",
       " 'cnt',\n",
       " 'cnv',\n",
       " 'cnw',\n",
       " 'cny',\n",
       " 'cp',\n",
       " 'cpa',\n",
       " 'cpc',\n",
       " 'cpd',\n",
       " 'cpe',\n",
       " 'cpf',\n",
       " 'cpg',\n",
       " 'cph',\n",
       " 'cpi',\n",
       " 'cpk',\n",
       " 'cpl',\n",
       " 'cpm',\n",
       " 'cpn',\n",
       " 'cpp',\n",
       " 'cpq',\n",
       " 'cpr',\n",
       " 'cps',\n",
       " 'cpt',\n",
       " 'cpv',\n",
       " 'cpw',\n",
       " 'cpy',\n",
       " 'cq',\n",
       " 'cqa',\n",
       " 'cqc',\n",
       " 'cqd',\n",
       " 'cqe',\n",
       " 'cqf',\n",
       " 'cqg',\n",
       " 'cqh',\n",
       " 'cqi',\n",
       " 'cqk',\n",
       " 'cql',\n",
       " 'cqm',\n",
       " 'cqn',\n",
       " 'cqp',\n",
       " 'cqq',\n",
       " 'cqr',\n",
       " 'cqs',\n",
       " 'cqt',\n",
       " 'cqv',\n",
       " 'cqw',\n",
       " 'cqy',\n",
       " 'cr',\n",
       " 'cra',\n",
       " 'crc',\n",
       " 'crd',\n",
       " 'cre',\n",
       " 'crf',\n",
       " 'crg',\n",
       " 'crh',\n",
       " 'cri',\n",
       " 'crk',\n",
       " 'crl',\n",
       " 'crm',\n",
       " 'crn',\n",
       " 'crp',\n",
       " 'crq',\n",
       " 'crr',\n",
       " 'crs',\n",
       " 'crt',\n",
       " 'crv',\n",
       " 'crw',\n",
       " 'cry',\n",
       " 'cs',\n",
       " 'csa',\n",
       " 'csc',\n",
       " 'csd',\n",
       " 'cse',\n",
       " 'csf',\n",
       " 'csg',\n",
       " 'csh',\n",
       " 'csi',\n",
       " 'csk',\n",
       " 'csl',\n",
       " 'csm',\n",
       " 'csn',\n",
       " 'csp',\n",
       " 'csq',\n",
       " 'csr',\n",
       " 'css',\n",
       " 'cst',\n",
       " 'csv',\n",
       " 'csw',\n",
       " 'csy',\n",
       " 'ct',\n",
       " 'cta',\n",
       " 'ctc',\n",
       " 'ctd',\n",
       " 'cte',\n",
       " 'ctf',\n",
       " 'ctg',\n",
       " 'cth',\n",
       " 'cti',\n",
       " 'ctk',\n",
       " 'ctl',\n",
       " 'ctm',\n",
       " 'ctn',\n",
       " 'ctp',\n",
       " 'ctq',\n",
       " 'ctr',\n",
       " 'cts',\n",
       " 'ctt',\n",
       " 'ctv',\n",
       " 'ctw',\n",
       " 'cty',\n",
       " 'cv',\n",
       " 'cva',\n",
       " 'cvc',\n",
       " 'cvd',\n",
       " 'cve',\n",
       " 'cvf',\n",
       " 'cvg',\n",
       " 'cvh',\n",
       " 'cvi',\n",
       " 'cvk',\n",
       " 'cvl',\n",
       " 'cvm',\n",
       " 'cvn',\n",
       " 'cvp',\n",
       " 'cvq',\n",
       " 'cvr',\n",
       " 'cvs',\n",
       " 'cvt',\n",
       " 'cvv',\n",
       " 'cvw',\n",
       " 'cvy',\n",
       " 'cw',\n",
       " 'cwa',\n",
       " 'cwc',\n",
       " 'cwd',\n",
       " 'cwe',\n",
       " 'cwf',\n",
       " 'cwg',\n",
       " 'cwi',\n",
       " 'cwk',\n",
       " 'cwl',\n",
       " 'cwm',\n",
       " 'cwn',\n",
       " 'cwp',\n",
       " 'cwq',\n",
       " 'cwr',\n",
       " 'cws',\n",
       " 'cwt',\n",
       " 'cwv',\n",
       " 'cww',\n",
       " 'cwy',\n",
       " 'cy',\n",
       " 'cya',\n",
       " 'cyc',\n",
       " 'cyd',\n",
       " 'cye',\n",
       " 'cyf',\n",
       " 'cyg',\n",
       " 'cyh',\n",
       " 'cyi',\n",
       " 'cyk',\n",
       " 'cyl',\n",
       " 'cym',\n",
       " 'cyn',\n",
       " 'cyp',\n",
       " 'cyq',\n",
       " 'cyr',\n",
       " 'cys',\n",
       " 'cyt',\n",
       " 'cyv',\n",
       " 'cyw',\n",
       " 'cyy',\n",
       " 'd',\n",
       " 'da',\n",
       " 'daa',\n",
       " 'dac',\n",
       " 'dad',\n",
       " 'dae',\n",
       " 'daf',\n",
       " 'dag',\n",
       " 'dah',\n",
       " 'dai',\n",
       " 'dak',\n",
       " 'dal',\n",
       " 'dam',\n",
       " 'dan',\n",
       " 'dap',\n",
       " 'daq',\n",
       " 'dar',\n",
       " 'das',\n",
       " 'dat',\n",
       " 'dav',\n",
       " 'daw',\n",
       " 'day',\n",
       " 'dc',\n",
       " 'dca',\n",
       " 'dcc',\n",
       " 'dcd',\n",
       " 'dce',\n",
       " 'dcf',\n",
       " 'dcg',\n",
       " 'dch',\n",
       " 'dci',\n",
       " 'dck',\n",
       " 'dcl',\n",
       " 'dcm',\n",
       " 'dcn',\n",
       " 'dcp',\n",
       " 'dcq',\n",
       " 'dcr',\n",
       " 'dcs',\n",
       " 'dct',\n",
       " 'dcv',\n",
       " 'dcw',\n",
       " 'dcy',\n",
       " 'dd',\n",
       " 'dda',\n",
       " 'ddc',\n",
       " 'ddd',\n",
       " 'dde',\n",
       " 'ddf',\n",
       " 'ddg',\n",
       " 'ddh',\n",
       " 'ddi',\n",
       " 'ddk',\n",
       " 'ddl',\n",
       " 'ddm',\n",
       " 'ddn',\n",
       " 'ddp',\n",
       " 'ddq',\n",
       " 'ddr',\n",
       " 'dds',\n",
       " 'ddt',\n",
       " 'ddv',\n",
       " 'ddw',\n",
       " 'ddy',\n",
       " 'de',\n",
       " 'dea',\n",
       " 'dec',\n",
       " 'ded',\n",
       " 'dee',\n",
       " 'def',\n",
       " 'deg',\n",
       " 'deh',\n",
       " 'dei',\n",
       " 'dek',\n",
       " 'del',\n",
       " 'dem',\n",
       " 'den',\n",
       " 'dep',\n",
       " 'deq',\n",
       " 'der',\n",
       " 'des',\n",
       " 'det',\n",
       " 'dev',\n",
       " 'dew',\n",
       " 'dey',\n",
       " 'df',\n",
       " 'dfa',\n",
       " 'dfc',\n",
       " 'dfd',\n",
       " 'dfe',\n",
       " 'dff',\n",
       " 'dfg',\n",
       " 'dfh',\n",
       " 'dfi',\n",
       " 'dfk',\n",
       " 'dfl',\n",
       " 'dfm',\n",
       " 'dfn',\n",
       " 'dfp',\n",
       " 'dfq',\n",
       " 'dfr',\n",
       " 'dfs',\n",
       " 'dft',\n",
       " 'dfv',\n",
       " 'dfw',\n",
       " 'dfy',\n",
       " 'dg',\n",
       " 'dga',\n",
       " 'dgc',\n",
       " 'dgd',\n",
       " 'dge',\n",
       " 'dgf',\n",
       " 'dgg',\n",
       " 'dgh',\n",
       " 'dgi',\n",
       " 'dgk',\n",
       " 'dgl',\n",
       " 'dgm',\n",
       " 'dgn',\n",
       " 'dgp',\n",
       " 'dgq',\n",
       " 'dgr',\n",
       " 'dgs',\n",
       " 'dgt',\n",
       " 'dgv',\n",
       " 'dgw',\n",
       " 'dgy',\n",
       " 'dh',\n",
       " 'dha',\n",
       " 'dhc',\n",
       " 'dhd',\n",
       " 'dhe',\n",
       " 'dhf',\n",
       " 'dhg',\n",
       " 'dhh',\n",
       " 'dhi',\n",
       " 'dhk',\n",
       " 'dhl',\n",
       " 'dhm',\n",
       " 'dhn',\n",
       " 'dhp',\n",
       " 'dhq',\n",
       " 'dhr',\n",
       " 'dhs',\n",
       " 'dht',\n",
       " 'dhv',\n",
       " 'dhw',\n",
       " 'dhy',\n",
       " 'di',\n",
       " 'dia',\n",
       " 'dic',\n",
       " 'did',\n",
       " 'die',\n",
       " 'dif',\n",
       " 'dig',\n",
       " 'dih',\n",
       " 'dii',\n",
       " 'dik',\n",
       " 'dil',\n",
       " 'dim',\n",
       " 'din',\n",
       " 'dip',\n",
       " ...]"
      ]
     },
     "execution_count": 16,
     "metadata": {},
     "output_type": "execute_result"
    }
   ],
   "source": [
    "feature_names = count_vectorizer.get_feature_names()\n",
    "feature_names"
   ]
  },
  {
   "cell_type": "markdown",
   "metadata": {},
   "source": [
    "Number of extracted features (n-grams):"
   ]
  },
  {
   "cell_type": "code",
   "execution_count": 17,
   "metadata": {},
   "outputs": [
    {
     "data": {
      "text/plain": [
       "8410"
      ]
     },
     "execution_count": 17,
     "metadata": {},
     "output_type": "execute_result"
    }
   ],
   "source": [
    "len(feature_names)"
   ]
  },
  {
   "cell_type": "markdown",
   "metadata": {},
   "source": [
    "Vectorization of training and test set sequences:"
   ]
  },
  {
   "cell_type": "code",
   "execution_count": 18,
   "metadata": {},
   "outputs": [],
   "source": [
    "x_train_vectorized = count_vectorizer.transform(x_train)\n",
    "x_test_vectorized = count_vectorizer.transform(x_test)"
   ]
  },
  {
   "cell_type": "code",
   "execution_count": 19,
   "metadata": {},
   "outputs": [
    {
     "data": {
      "text/plain": [
       "(8537, 8410)"
      ]
     },
     "execution_count": 19,
     "metadata": {},
     "output_type": "execute_result"
    }
   ],
   "source": [
    "x_train_vectorized.shape"
   ]
  },
  {
   "cell_type": "code",
   "execution_count": 20,
   "metadata": {},
   "outputs": [
    {
     "data": {
      "text/plain": [
       "(4206, 8410)"
      ]
     },
     "execution_count": 20,
     "metadata": {},
     "output_type": "execute_result"
    }
   ],
   "source": [
    "x_test_vectorized.shape"
   ]
  },
  {
   "cell_type": "markdown",
   "metadata": {},
   "source": [
    "### Model 1 - logistic regression"
   ]
  },
  {
   "cell_type": "markdown",
   "metadata": {},
   "source": [
    "We construct a simple logistic regression model and train it on a vectorized training set. Scikit-learn library provides support for different linear models, as well for the logistic regression model, through <code>linear_model</code> package. "
   ]
  },
  {
   "cell_type": "code",
   "execution_count": 21,
   "metadata": {},
   "outputs": [],
   "source": [
    "model1 = linear_model.LogisticRegression()"
   ]
  },
  {
   "cell_type": "code",
   "execution_count": 22,
   "metadata": {},
   "outputs": [
    {
     "data": {
      "text/plain": [
       "LogisticRegression()"
      ]
     },
     "execution_count": 22,
     "metadata": {},
     "output_type": "execute_result"
    }
   ],
   "source": [
    "model1.fit(x_train_vectorized, y_train)"
   ]
  },
  {
   "cell_type": "markdown",
   "metadata": {},
   "source": [
    "Accuracy of the model on the training and test set:"
   ]
  },
  {
   "cell_type": "code",
   "execution_count": 23,
   "metadata": {},
   "outputs": [
    {
     "data": {
      "text/plain": [
       "0.9954316504626918"
      ]
     },
     "execution_count": 23,
     "metadata": {},
     "output_type": "execute_result"
    }
   ],
   "source": [
    "model1.score(x_train_vectorized, y_train)"
   ]
  },
  {
   "cell_type": "code",
   "execution_count": 24,
   "metadata": {},
   "outputs": [
    {
     "data": {
      "text/plain": [
       "0.9348549690917737"
      ]
     },
     "execution_count": 24,
     "metadata": {},
     "output_type": "execute_result"
    }
   ],
   "source": [
    "model1.score(x_test_vectorized, y_test)"
   ]
  },
  {
   "cell_type": "markdown",
   "metadata": {},
   "source": [
    "Confusion matrix:"
   ]
  },
  {
   "cell_type": "code",
   "execution_count": 25,
   "metadata": {},
   "outputs": [],
   "source": [
    "y_test_predicted = model1.predict(x_test_vectorized)"
   ]
  },
  {
   "cell_type": "code",
   "execution_count": 26,
   "metadata": {},
   "outputs": [
    {
     "data": {
      "text/plain": [
       "array([[1269,  128],\n",
       "       [ 146, 2663]])"
      ]
     },
     "execution_count": 26,
     "metadata": {},
     "output_type": "execute_result"
    }
   ],
   "source": [
    "metrics.confusion_matrix(y_test, y_test_predicted)"
   ]
  },
  {
   "cell_type": "markdown",
   "metadata": {},
   "source": [
    "### Model 2 - linear SVM"
   ]
  },
  {
   "cell_type": "markdown",
   "metadata": {},
   "source": [
    "We construct a linear SVM (Support Vector Machine) model and train it on a vectorized training set. Support for linear SVM model is provided through the <code>LinearSVC</code> class from the <code>svm</code> module of the <code>sklearn</code> package."
   ]
  },
  {
   "cell_type": "code",
   "execution_count": 27,
   "metadata": {},
   "outputs": [],
   "source": [
    "model2 = svm.LinearSVC()"
   ]
  },
  {
   "cell_type": "code",
   "execution_count": 28,
   "metadata": {},
   "outputs": [
    {
     "data": {
      "text/plain": [
       "LinearSVC()"
      ]
     },
     "execution_count": 28,
     "metadata": {},
     "output_type": "execute_result"
    }
   ],
   "source": [
    "model2.fit(x_train_vectorized, y_train)"
   ]
  },
  {
   "cell_type": "markdown",
   "metadata": {},
   "source": [
    "Accuracy of the model on the training and test set:"
   ]
  },
  {
   "cell_type": "code",
   "execution_count": 29,
   "metadata": {},
   "outputs": [
    {
     "data": {
      "text/plain": [
       "0.9981258053180274"
      ]
     },
     "execution_count": 29,
     "metadata": {},
     "output_type": "execute_result"
    }
   ],
   "source": [
    "model2.score(x_train_vectorized, y_train)"
   ]
  },
  {
   "cell_type": "code",
   "execution_count": 30,
   "metadata": {},
   "outputs": [
    {
     "data": {
      "text/plain": [
       "0.9253447456015217"
      ]
     },
     "execution_count": 30,
     "metadata": {},
     "output_type": "execute_result"
    }
   ],
   "source": [
    "model2.score(x_test_vectorized, y_test)"
   ]
  },
  {
   "cell_type": "markdown",
   "metadata": {},
   "source": [
    "Confusion matrix:"
   ]
  },
  {
   "cell_type": "code",
   "execution_count": 31,
   "metadata": {},
   "outputs": [],
   "source": [
    "y_test_predicted = model2.predict(x_test_vectorized)"
   ]
  },
  {
   "cell_type": "code",
   "execution_count": 32,
   "metadata": {},
   "outputs": [
    {
     "data": {
      "text/plain": [
       "array([[1261,  136],\n",
       "       [ 178, 2631]])"
      ]
     },
     "execution_count": 32,
     "metadata": {},
     "output_type": "execute_result"
    }
   ],
   "source": [
    "metrics.confusion_matrix(y_test, y_test_predicted)"
   ]
  },
  {
   "cell_type": "markdown",
   "metadata": {},
   "source": [
    "### Model 3 - k nearest neighbors"
   ]
  },
  {
   "cell_type": "markdown",
   "metadata": {},
   "source": [
    "We construct a *k* nearest neighbors classifier (observing the 4 nearest neighbors) and train it on a vectorized training set. Support for KNN model is provided through the <code>KNeighborsClassifier</code> class from the <code>neighbors</code> module of the <code>sklearn</code> package."
   ]
  },
  {
   "cell_type": "code",
   "execution_count": 33,
   "metadata": {},
   "outputs": [],
   "source": [
    "model3 = neighbors.KNeighborsClassifier(n_neighbors=4)"
   ]
  },
  {
   "cell_type": "code",
   "execution_count": 34,
   "metadata": {},
   "outputs": [
    {
     "data": {
      "text/plain": [
       "KNeighborsClassifier(n_neighbors=4)"
      ]
     },
     "execution_count": 34,
     "metadata": {},
     "output_type": "execute_result"
    }
   ],
   "source": [
    "model3.fit(x_train_vectorized, y_train)"
   ]
  },
  {
   "cell_type": "markdown",
   "metadata": {},
   "source": [
    "Accuracy of the model on the training and test set:"
   ]
  },
  {
   "cell_type": "code",
   "execution_count": 35,
   "metadata": {},
   "outputs": [
    {
     "data": {
      "text/plain": [
       "0.9441255710436922"
      ]
     },
     "execution_count": 35,
     "metadata": {},
     "output_type": "execute_result"
    }
   ],
   "source": [
    "model3.score(x_train_vectorized, y_train)"
   ]
  },
  {
   "cell_type": "code",
   "execution_count": 36,
   "metadata": {},
   "outputs": [
    {
     "data": {
      "text/plain": [
       "0.9248692344270091"
      ]
     },
     "execution_count": 36,
     "metadata": {},
     "output_type": "execute_result"
    }
   ],
   "source": [
    "model3.score(x_test_vectorized, y_test)"
   ]
  },
  {
   "cell_type": "markdown",
   "metadata": {},
   "source": [
    "Confusion matrix:"
   ]
  },
  {
   "cell_type": "code",
   "execution_count": 37,
   "metadata": {},
   "outputs": [],
   "source": [
    "y_test_predicted = model3.predict(x_test_vectorized)"
   ]
  },
  {
   "cell_type": "code",
   "execution_count": 38,
   "metadata": {},
   "outputs": [
    {
     "data": {
      "text/plain": [
       "array([[1294,  103],\n",
       "       [ 213, 2596]])"
      ]
     },
     "execution_count": 38,
     "metadata": {},
     "output_type": "execute_result"
    }
   ],
   "source": [
    "metrics.confusion_matrix(y_test, y_test_predicted)"
   ]
  },
  {
   "cell_type": "markdown",
   "metadata": {},
   "source": [
    "## TF-IDF representations"
   ]
  },
  {
   "cell_type": "markdown",
   "metadata": {},
   "source": [
    "Now we well try with TF-IDF representations and train same types of classification models in order to compare them with the previous ones. For obtaining the TF-IDF representations of sequences we will use the <code>TfidfVectorizer</code> class from module <code>sklearn.text.feature_extraction</code>. The set of parameters when calling a constructor function is the same as for the <code>CountVectorzer</code> class."
   ]
  },
  {
   "cell_type": "markdown",
   "metadata": {},
   "source": [
    "Via parameters <code>analyzer</code> and <code>ngram_range</code> we set text (protein sequences) to be tokenized into characters (instead of words, which is default) and n-gram range which is going to extracted. Also, we exclude tokens (n-grams) that appear less than 5 times (<code>min_df</code> parameter) and chose to use only the \"TF part\" of the TF-IDF metric bu setting the parameter <code>use_idf</code> to <code>False</code>."
   ]
  },
  {
   "cell_type": "code",
   "execution_count": 39,
   "metadata": {},
   "outputs": [],
   "source": [
    "vectorizer = feature_extraction.text.TfidfVectorizer(analyzer='char', ngram_range=(1, 3), min_df=5, use_idf=False)"
   ]
  },
  {
   "cell_type": "markdown",
   "metadata": {},
   "source": [
    "Building vocabulary based on instances of the training set:"
   ]
  },
  {
   "cell_type": "code",
   "execution_count": 40,
   "metadata": {},
   "outputs": [
    {
     "data": {
      "text/plain": [
       "TfidfVectorizer(analyzer='char', min_df=5, ngram_range=(1, 3), use_idf=False)"
      ]
     },
     "execution_count": 40,
     "metadata": {},
     "output_type": "execute_result"
    }
   ],
   "source": [
    "vectorizer.fit(x_train)"
   ]
  },
  {
   "cell_type": "markdown",
   "metadata": {},
   "source": [
    "List of extracted features (n-grams) that make up the vocabulary:"
   ]
  },
  {
   "cell_type": "code",
   "execution_count": 41,
   "metadata": {},
   "outputs": [
    {
     "data": {
      "text/plain": [
       "['a',\n",
       " 'aa',\n",
       " 'aaa',\n",
       " 'aac',\n",
       " 'aad',\n",
       " 'aae',\n",
       " 'aaf',\n",
       " 'aag',\n",
       " 'aah',\n",
       " 'aai',\n",
       " 'aak',\n",
       " 'aal',\n",
       " 'aam',\n",
       " 'aan',\n",
       " 'aap',\n",
       " 'aaq',\n",
       " 'aar',\n",
       " 'aas',\n",
       " 'aat',\n",
       " 'aav',\n",
       " 'aaw',\n",
       " 'aay',\n",
       " 'ac',\n",
       " 'aca',\n",
       " 'acc',\n",
       " 'acd',\n",
       " 'ace',\n",
       " 'acf',\n",
       " 'acg',\n",
       " 'ach',\n",
       " 'aci',\n",
       " 'ack',\n",
       " 'acl',\n",
       " 'acm',\n",
       " 'acn',\n",
       " 'acp',\n",
       " 'acq',\n",
       " 'acr',\n",
       " 'acs',\n",
       " 'act',\n",
       " 'acv',\n",
       " 'acw',\n",
       " 'acy',\n",
       " 'ad',\n",
       " 'ada',\n",
       " 'adc',\n",
       " 'add',\n",
       " 'ade',\n",
       " 'adf',\n",
       " 'adg',\n",
       " 'adh',\n",
       " 'adi',\n",
       " 'adk',\n",
       " 'adl',\n",
       " 'adm',\n",
       " 'adn',\n",
       " 'adp',\n",
       " 'adq',\n",
       " 'adr',\n",
       " 'ads',\n",
       " 'adt',\n",
       " 'adv',\n",
       " 'adw',\n",
       " 'ady',\n",
       " 'ae',\n",
       " 'aea',\n",
       " 'aec',\n",
       " 'aed',\n",
       " 'aee',\n",
       " 'aef',\n",
       " 'aeg',\n",
       " 'aeh',\n",
       " 'aei',\n",
       " 'aek',\n",
       " 'ael',\n",
       " 'aem',\n",
       " 'aen',\n",
       " 'aep',\n",
       " 'aeq',\n",
       " 'aer',\n",
       " 'aes',\n",
       " 'aet',\n",
       " 'aev',\n",
       " 'aew',\n",
       " 'aey',\n",
       " 'af',\n",
       " 'afa',\n",
       " 'afc',\n",
       " 'afd',\n",
       " 'afe',\n",
       " 'aff',\n",
       " 'afg',\n",
       " 'afh',\n",
       " 'afi',\n",
       " 'afk',\n",
       " 'afl',\n",
       " 'afm',\n",
       " 'afn',\n",
       " 'afp',\n",
       " 'afq',\n",
       " 'afr',\n",
       " 'afs',\n",
       " 'aft',\n",
       " 'afv',\n",
       " 'afw',\n",
       " 'afy',\n",
       " 'ag',\n",
       " 'aga',\n",
       " 'agc',\n",
       " 'agd',\n",
       " 'age',\n",
       " 'agf',\n",
       " 'agg',\n",
       " 'agh',\n",
       " 'agi',\n",
       " 'agk',\n",
       " 'agl',\n",
       " 'agm',\n",
       " 'agn',\n",
       " 'agp',\n",
       " 'agq',\n",
       " 'agr',\n",
       " 'ags',\n",
       " 'agt',\n",
       " 'agv',\n",
       " 'agw',\n",
       " 'agy',\n",
       " 'ah',\n",
       " 'aha',\n",
       " 'ahc',\n",
       " 'ahd',\n",
       " 'ahe',\n",
       " 'ahf',\n",
       " 'ahg',\n",
       " 'ahh',\n",
       " 'ahi',\n",
       " 'ahk',\n",
       " 'ahl',\n",
       " 'ahm',\n",
       " 'ahn',\n",
       " 'ahp',\n",
       " 'ahq',\n",
       " 'ahr',\n",
       " 'ahs',\n",
       " 'aht',\n",
       " 'ahv',\n",
       " 'ahw',\n",
       " 'ahy',\n",
       " 'ai',\n",
       " 'aia',\n",
       " 'aic',\n",
       " 'aid',\n",
       " 'aie',\n",
       " 'aif',\n",
       " 'aig',\n",
       " 'aih',\n",
       " 'aii',\n",
       " 'aik',\n",
       " 'ail',\n",
       " 'aim',\n",
       " 'ain',\n",
       " 'aip',\n",
       " 'aiq',\n",
       " 'air',\n",
       " 'ais',\n",
       " 'ait',\n",
       " 'aiv',\n",
       " 'aiw',\n",
       " 'aiy',\n",
       " 'ak',\n",
       " 'aka',\n",
       " 'akc',\n",
       " 'akd',\n",
       " 'ake',\n",
       " 'akf',\n",
       " 'akg',\n",
       " 'akh',\n",
       " 'aki',\n",
       " 'akk',\n",
       " 'akl',\n",
       " 'akm',\n",
       " 'akn',\n",
       " 'akp',\n",
       " 'akq',\n",
       " 'akr',\n",
       " 'aks',\n",
       " 'akt',\n",
       " 'akv',\n",
       " 'akw',\n",
       " 'aky',\n",
       " 'al',\n",
       " 'ala',\n",
       " 'alc',\n",
       " 'ald',\n",
       " 'ale',\n",
       " 'alf',\n",
       " 'alg',\n",
       " 'alh',\n",
       " 'ali',\n",
       " 'alk',\n",
       " 'all',\n",
       " 'alm',\n",
       " 'aln',\n",
       " 'alp',\n",
       " 'alq',\n",
       " 'alr',\n",
       " 'als',\n",
       " 'alt',\n",
       " 'alv',\n",
       " 'alw',\n",
       " 'aly',\n",
       " 'am',\n",
       " 'ama',\n",
       " 'amc',\n",
       " 'amd',\n",
       " 'ame',\n",
       " 'amf',\n",
       " 'amg',\n",
       " 'amh',\n",
       " 'ami',\n",
       " 'amk',\n",
       " 'aml',\n",
       " 'amm',\n",
       " 'amn',\n",
       " 'amp',\n",
       " 'amq',\n",
       " 'amr',\n",
       " 'ams',\n",
       " 'amt',\n",
       " 'amv',\n",
       " 'amw',\n",
       " 'amy',\n",
       " 'an',\n",
       " 'ana',\n",
       " 'anc',\n",
       " 'and',\n",
       " 'ane',\n",
       " 'anf',\n",
       " 'ang',\n",
       " 'anh',\n",
       " 'ani',\n",
       " 'ank',\n",
       " 'anl',\n",
       " 'anm',\n",
       " 'ann',\n",
       " 'anp',\n",
       " 'anq',\n",
       " 'anr',\n",
       " 'ans',\n",
       " 'ant',\n",
       " 'anv',\n",
       " 'anw',\n",
       " 'any',\n",
       " 'ap',\n",
       " 'apa',\n",
       " 'apc',\n",
       " 'apd',\n",
       " 'ape',\n",
       " 'apf',\n",
       " 'apg',\n",
       " 'aph',\n",
       " 'api',\n",
       " 'apk',\n",
       " 'apl',\n",
       " 'apm',\n",
       " 'apn',\n",
       " 'app',\n",
       " 'apq',\n",
       " 'apr',\n",
       " 'aps',\n",
       " 'apt',\n",
       " 'apv',\n",
       " 'apw',\n",
       " 'apy',\n",
       " 'aq',\n",
       " 'aqa',\n",
       " 'aqc',\n",
       " 'aqd',\n",
       " 'aqe',\n",
       " 'aqf',\n",
       " 'aqg',\n",
       " 'aqh',\n",
       " 'aqi',\n",
       " 'aqk',\n",
       " 'aql',\n",
       " 'aqm',\n",
       " 'aqn',\n",
       " 'aqp',\n",
       " 'aqq',\n",
       " 'aqr',\n",
       " 'aqs',\n",
       " 'aqt',\n",
       " 'aqv',\n",
       " 'aqw',\n",
       " 'aqy',\n",
       " 'ar',\n",
       " 'ara',\n",
       " 'arc',\n",
       " 'ard',\n",
       " 'are',\n",
       " 'arf',\n",
       " 'arg',\n",
       " 'arh',\n",
       " 'ari',\n",
       " 'ark',\n",
       " 'arl',\n",
       " 'arm',\n",
       " 'arn',\n",
       " 'arp',\n",
       " 'arq',\n",
       " 'arr',\n",
       " 'ars',\n",
       " 'art',\n",
       " 'arv',\n",
       " 'arw',\n",
       " 'ary',\n",
       " 'as',\n",
       " 'asa',\n",
       " 'asc',\n",
       " 'asd',\n",
       " 'ase',\n",
       " 'asf',\n",
       " 'asg',\n",
       " 'ash',\n",
       " 'asi',\n",
       " 'ask',\n",
       " 'asl',\n",
       " 'asm',\n",
       " 'asn',\n",
       " 'asp',\n",
       " 'asq',\n",
       " 'asr',\n",
       " 'ass',\n",
       " 'ast',\n",
       " 'asv',\n",
       " 'asw',\n",
       " 'asy',\n",
       " 'at',\n",
       " 'ata',\n",
       " 'atc',\n",
       " 'atd',\n",
       " 'ate',\n",
       " 'atf',\n",
       " 'atg',\n",
       " 'ath',\n",
       " 'ati',\n",
       " 'atk',\n",
       " 'atl',\n",
       " 'atm',\n",
       " 'atn',\n",
       " 'atp',\n",
       " 'atq',\n",
       " 'atr',\n",
       " 'ats',\n",
       " 'att',\n",
       " 'atv',\n",
       " 'atw',\n",
       " 'aty',\n",
       " 'av',\n",
       " 'ava',\n",
       " 'avc',\n",
       " 'avd',\n",
       " 'ave',\n",
       " 'avf',\n",
       " 'avg',\n",
       " 'avh',\n",
       " 'avi',\n",
       " 'avk',\n",
       " 'avl',\n",
       " 'avm',\n",
       " 'avn',\n",
       " 'avp',\n",
       " 'avq',\n",
       " 'avr',\n",
       " 'avs',\n",
       " 'avt',\n",
       " 'avv',\n",
       " 'avw',\n",
       " 'avy',\n",
       " 'aw',\n",
       " 'awa',\n",
       " 'awc',\n",
       " 'awd',\n",
       " 'awe',\n",
       " 'awf',\n",
       " 'awg',\n",
       " 'awh',\n",
       " 'awi',\n",
       " 'awk',\n",
       " 'awl',\n",
       " 'awm',\n",
       " 'awn',\n",
       " 'awp',\n",
       " 'awq',\n",
       " 'awr',\n",
       " 'aws',\n",
       " 'awt',\n",
       " 'awv',\n",
       " 'aww',\n",
       " 'awy',\n",
       " 'ay',\n",
       " 'aya',\n",
       " 'ayc',\n",
       " 'ayd',\n",
       " 'aye',\n",
       " 'ayf',\n",
       " 'ayg',\n",
       " 'ayh',\n",
       " 'ayi',\n",
       " 'ayk',\n",
       " 'ayl',\n",
       " 'aym',\n",
       " 'ayn',\n",
       " 'ayp',\n",
       " 'ayq',\n",
       " 'ayr',\n",
       " 'ays',\n",
       " 'ayt',\n",
       " 'ayv',\n",
       " 'ayw',\n",
       " 'ayy',\n",
       " 'c',\n",
       " 'ca',\n",
       " 'caa',\n",
       " 'cac',\n",
       " 'cad',\n",
       " 'cae',\n",
       " 'caf',\n",
       " 'cag',\n",
       " 'cah',\n",
       " 'cai',\n",
       " 'cak',\n",
       " 'cal',\n",
       " 'cam',\n",
       " 'can',\n",
       " 'cap',\n",
       " 'caq',\n",
       " 'car',\n",
       " 'cas',\n",
       " 'cat',\n",
       " 'cav',\n",
       " 'caw',\n",
       " 'cay',\n",
       " 'cc',\n",
       " 'cca',\n",
       " 'ccc',\n",
       " 'ccd',\n",
       " 'cce',\n",
       " 'ccf',\n",
       " 'ccg',\n",
       " 'cch',\n",
       " 'cci',\n",
       " 'cck',\n",
       " 'ccl',\n",
       " 'ccm',\n",
       " 'ccn',\n",
       " 'ccp',\n",
       " 'ccq',\n",
       " 'ccr',\n",
       " 'ccs',\n",
       " 'cct',\n",
       " 'ccv',\n",
       " 'ccy',\n",
       " 'cd',\n",
       " 'cda',\n",
       " 'cdc',\n",
       " 'cdd',\n",
       " 'cde',\n",
       " 'cdf',\n",
       " 'cdg',\n",
       " 'cdh',\n",
       " 'cdi',\n",
       " 'cdk',\n",
       " 'cdl',\n",
       " 'cdm',\n",
       " 'cdn',\n",
       " 'cdp',\n",
       " 'cdq',\n",
       " 'cdr',\n",
       " 'cds',\n",
       " 'cdt',\n",
       " 'cdv',\n",
       " 'cdw',\n",
       " 'cdy',\n",
       " 'ce',\n",
       " 'cea',\n",
       " 'cec',\n",
       " 'ced',\n",
       " 'cee',\n",
       " 'cef',\n",
       " 'ceg',\n",
       " 'ceh',\n",
       " 'cei',\n",
       " 'cek',\n",
       " 'cel',\n",
       " 'cem',\n",
       " 'cen',\n",
       " 'cep',\n",
       " 'ceq',\n",
       " 'cer',\n",
       " 'ces',\n",
       " 'cet',\n",
       " 'cev',\n",
       " 'cew',\n",
       " 'cey',\n",
       " 'cf',\n",
       " 'cfa',\n",
       " 'cfc',\n",
       " 'cfd',\n",
       " 'cfe',\n",
       " 'cff',\n",
       " 'cfg',\n",
       " 'cfh',\n",
       " 'cfi',\n",
       " 'cfk',\n",
       " 'cfl',\n",
       " 'cfm',\n",
       " 'cfn',\n",
       " 'cfp',\n",
       " 'cfq',\n",
       " 'cfr',\n",
       " 'cfs',\n",
       " 'cft',\n",
       " 'cfv',\n",
       " 'cfw',\n",
       " 'cfy',\n",
       " 'cg',\n",
       " 'cga',\n",
       " 'cgc',\n",
       " 'cgd',\n",
       " 'cge',\n",
       " 'cgf',\n",
       " 'cgg',\n",
       " 'cgh',\n",
       " 'cgi',\n",
       " 'cgk',\n",
       " 'cgl',\n",
       " 'cgm',\n",
       " 'cgn',\n",
       " 'cgp',\n",
       " 'cgq',\n",
       " 'cgr',\n",
       " 'cgs',\n",
       " 'cgt',\n",
       " 'cgv',\n",
       " 'cgw',\n",
       " 'cgy',\n",
       " 'ch',\n",
       " 'cha',\n",
       " 'chc',\n",
       " 'chd',\n",
       " 'che',\n",
       " 'chf',\n",
       " 'chg',\n",
       " 'chh',\n",
       " 'chi',\n",
       " 'chk',\n",
       " 'chl',\n",
       " 'chm',\n",
       " 'chn',\n",
       " 'chp',\n",
       " 'chq',\n",
       " 'chr',\n",
       " 'chs',\n",
       " 'cht',\n",
       " 'chv',\n",
       " 'chw',\n",
       " 'chy',\n",
       " 'ci',\n",
       " 'cia',\n",
       " 'cic',\n",
       " 'cid',\n",
       " 'cie',\n",
       " 'cif',\n",
       " 'cig',\n",
       " 'cih',\n",
       " 'cii',\n",
       " 'cik',\n",
       " 'cil',\n",
       " 'cim',\n",
       " 'cin',\n",
       " 'cip',\n",
       " 'ciq',\n",
       " 'cir',\n",
       " 'cis',\n",
       " 'cit',\n",
       " 'civ',\n",
       " 'ciw',\n",
       " 'ciy',\n",
       " 'ck',\n",
       " 'cka',\n",
       " 'ckc',\n",
       " 'ckd',\n",
       " 'cke',\n",
       " 'ckf',\n",
       " 'ckg',\n",
       " 'ckh',\n",
       " 'cki',\n",
       " 'ckk',\n",
       " 'ckl',\n",
       " 'ckm',\n",
       " 'ckn',\n",
       " 'ckp',\n",
       " 'ckq',\n",
       " 'ckr',\n",
       " 'cks',\n",
       " 'ckt',\n",
       " 'ckv',\n",
       " 'ckw',\n",
       " 'cky',\n",
       " 'cl',\n",
       " 'cla',\n",
       " 'clc',\n",
       " 'cld',\n",
       " 'cle',\n",
       " 'clf',\n",
       " 'clg',\n",
       " 'clh',\n",
       " 'cli',\n",
       " 'clk',\n",
       " 'cll',\n",
       " 'clm',\n",
       " 'cln',\n",
       " 'clp',\n",
       " 'clq',\n",
       " 'clr',\n",
       " 'cls',\n",
       " 'clt',\n",
       " 'clv',\n",
       " 'clw',\n",
       " 'cly',\n",
       " 'cm',\n",
       " 'cma',\n",
       " 'cmd',\n",
       " 'cme',\n",
       " 'cmf',\n",
       " 'cmg',\n",
       " 'cmh',\n",
       " 'cmi',\n",
       " 'cmk',\n",
       " 'cml',\n",
       " 'cmm',\n",
       " 'cmn',\n",
       " 'cmp',\n",
       " 'cmq',\n",
       " 'cmr',\n",
       " 'cms',\n",
       " 'cmt',\n",
       " 'cmv',\n",
       " 'cmy',\n",
       " 'cn',\n",
       " 'cna',\n",
       " 'cnc',\n",
       " 'cnd',\n",
       " 'cne',\n",
       " 'cnf',\n",
       " 'cng',\n",
       " 'cnh',\n",
       " 'cni',\n",
       " 'cnk',\n",
       " 'cnl',\n",
       " 'cnm',\n",
       " 'cnn',\n",
       " 'cnp',\n",
       " 'cnq',\n",
       " 'cnr',\n",
       " 'cns',\n",
       " 'cnt',\n",
       " 'cnv',\n",
       " 'cnw',\n",
       " 'cny',\n",
       " 'cp',\n",
       " 'cpa',\n",
       " 'cpc',\n",
       " 'cpd',\n",
       " 'cpe',\n",
       " 'cpf',\n",
       " 'cpg',\n",
       " 'cph',\n",
       " 'cpi',\n",
       " 'cpk',\n",
       " 'cpl',\n",
       " 'cpm',\n",
       " 'cpn',\n",
       " 'cpp',\n",
       " 'cpq',\n",
       " 'cpr',\n",
       " 'cps',\n",
       " 'cpt',\n",
       " 'cpv',\n",
       " 'cpw',\n",
       " 'cpy',\n",
       " 'cq',\n",
       " 'cqa',\n",
       " 'cqc',\n",
       " 'cqd',\n",
       " 'cqe',\n",
       " 'cqf',\n",
       " 'cqg',\n",
       " 'cqh',\n",
       " 'cqi',\n",
       " 'cqk',\n",
       " 'cql',\n",
       " 'cqm',\n",
       " 'cqn',\n",
       " 'cqp',\n",
       " 'cqq',\n",
       " 'cqr',\n",
       " 'cqs',\n",
       " 'cqt',\n",
       " 'cqv',\n",
       " 'cqw',\n",
       " 'cqy',\n",
       " 'cr',\n",
       " 'cra',\n",
       " 'crc',\n",
       " 'crd',\n",
       " 'cre',\n",
       " 'crf',\n",
       " 'crg',\n",
       " 'crh',\n",
       " 'cri',\n",
       " 'crk',\n",
       " 'crl',\n",
       " 'crm',\n",
       " 'crn',\n",
       " 'crp',\n",
       " 'crq',\n",
       " 'crr',\n",
       " 'crs',\n",
       " 'crt',\n",
       " 'crv',\n",
       " 'crw',\n",
       " 'cry',\n",
       " 'cs',\n",
       " 'csa',\n",
       " 'csc',\n",
       " 'csd',\n",
       " 'cse',\n",
       " 'csf',\n",
       " 'csg',\n",
       " 'csh',\n",
       " 'csi',\n",
       " 'csk',\n",
       " 'csl',\n",
       " 'csm',\n",
       " 'csn',\n",
       " 'csp',\n",
       " 'csq',\n",
       " 'csr',\n",
       " 'css',\n",
       " 'cst',\n",
       " 'csv',\n",
       " 'csw',\n",
       " 'csy',\n",
       " 'ct',\n",
       " 'cta',\n",
       " 'ctc',\n",
       " 'ctd',\n",
       " 'cte',\n",
       " 'ctf',\n",
       " 'ctg',\n",
       " 'cth',\n",
       " 'cti',\n",
       " 'ctk',\n",
       " 'ctl',\n",
       " 'ctm',\n",
       " 'ctn',\n",
       " 'ctp',\n",
       " 'ctq',\n",
       " 'ctr',\n",
       " 'cts',\n",
       " 'ctt',\n",
       " 'ctv',\n",
       " 'ctw',\n",
       " 'cty',\n",
       " 'cv',\n",
       " 'cva',\n",
       " 'cvc',\n",
       " 'cvd',\n",
       " 'cve',\n",
       " 'cvf',\n",
       " 'cvg',\n",
       " 'cvh',\n",
       " 'cvi',\n",
       " 'cvk',\n",
       " 'cvl',\n",
       " 'cvm',\n",
       " 'cvn',\n",
       " 'cvp',\n",
       " 'cvq',\n",
       " 'cvr',\n",
       " 'cvs',\n",
       " 'cvt',\n",
       " 'cvv',\n",
       " 'cvw',\n",
       " 'cvy',\n",
       " 'cw',\n",
       " 'cwa',\n",
       " 'cwc',\n",
       " 'cwd',\n",
       " 'cwe',\n",
       " 'cwf',\n",
       " 'cwg',\n",
       " 'cwi',\n",
       " 'cwk',\n",
       " 'cwl',\n",
       " 'cwm',\n",
       " 'cwn',\n",
       " 'cwp',\n",
       " 'cwq',\n",
       " 'cwr',\n",
       " 'cws',\n",
       " 'cwt',\n",
       " 'cwv',\n",
       " 'cww',\n",
       " 'cwy',\n",
       " 'cy',\n",
       " 'cya',\n",
       " 'cyc',\n",
       " 'cyd',\n",
       " 'cye',\n",
       " 'cyf',\n",
       " 'cyg',\n",
       " 'cyh',\n",
       " 'cyi',\n",
       " 'cyk',\n",
       " 'cyl',\n",
       " 'cym',\n",
       " 'cyn',\n",
       " 'cyp',\n",
       " 'cyq',\n",
       " 'cyr',\n",
       " 'cys',\n",
       " 'cyt',\n",
       " 'cyv',\n",
       " 'cyw',\n",
       " 'cyy',\n",
       " 'd',\n",
       " 'da',\n",
       " 'daa',\n",
       " 'dac',\n",
       " 'dad',\n",
       " 'dae',\n",
       " 'daf',\n",
       " 'dag',\n",
       " 'dah',\n",
       " 'dai',\n",
       " 'dak',\n",
       " 'dal',\n",
       " 'dam',\n",
       " 'dan',\n",
       " 'dap',\n",
       " 'daq',\n",
       " 'dar',\n",
       " 'das',\n",
       " 'dat',\n",
       " 'dav',\n",
       " 'daw',\n",
       " 'day',\n",
       " 'dc',\n",
       " 'dca',\n",
       " 'dcc',\n",
       " 'dcd',\n",
       " 'dce',\n",
       " 'dcf',\n",
       " 'dcg',\n",
       " 'dch',\n",
       " 'dci',\n",
       " 'dck',\n",
       " 'dcl',\n",
       " 'dcm',\n",
       " 'dcn',\n",
       " 'dcp',\n",
       " 'dcq',\n",
       " 'dcr',\n",
       " 'dcs',\n",
       " 'dct',\n",
       " 'dcv',\n",
       " 'dcw',\n",
       " 'dcy',\n",
       " 'dd',\n",
       " 'dda',\n",
       " 'ddc',\n",
       " 'ddd',\n",
       " 'dde',\n",
       " 'ddf',\n",
       " 'ddg',\n",
       " 'ddh',\n",
       " 'ddi',\n",
       " 'ddk',\n",
       " 'ddl',\n",
       " 'ddm',\n",
       " 'ddn',\n",
       " 'ddp',\n",
       " 'ddq',\n",
       " 'ddr',\n",
       " 'dds',\n",
       " 'ddt',\n",
       " 'ddv',\n",
       " 'ddw',\n",
       " 'ddy',\n",
       " 'de',\n",
       " 'dea',\n",
       " 'dec',\n",
       " 'ded',\n",
       " 'dee',\n",
       " 'def',\n",
       " 'deg',\n",
       " 'deh',\n",
       " 'dei',\n",
       " 'dek',\n",
       " 'del',\n",
       " 'dem',\n",
       " 'den',\n",
       " 'dep',\n",
       " 'deq',\n",
       " 'der',\n",
       " 'des',\n",
       " 'det',\n",
       " 'dev',\n",
       " 'dew',\n",
       " 'dey',\n",
       " 'df',\n",
       " 'dfa',\n",
       " 'dfc',\n",
       " 'dfd',\n",
       " 'dfe',\n",
       " 'dff',\n",
       " 'dfg',\n",
       " 'dfh',\n",
       " 'dfi',\n",
       " 'dfk',\n",
       " 'dfl',\n",
       " 'dfm',\n",
       " 'dfn',\n",
       " 'dfp',\n",
       " 'dfq',\n",
       " 'dfr',\n",
       " 'dfs',\n",
       " 'dft',\n",
       " 'dfv',\n",
       " 'dfw',\n",
       " 'dfy',\n",
       " 'dg',\n",
       " 'dga',\n",
       " 'dgc',\n",
       " 'dgd',\n",
       " 'dge',\n",
       " 'dgf',\n",
       " 'dgg',\n",
       " 'dgh',\n",
       " 'dgi',\n",
       " 'dgk',\n",
       " 'dgl',\n",
       " 'dgm',\n",
       " 'dgn',\n",
       " 'dgp',\n",
       " 'dgq',\n",
       " 'dgr',\n",
       " 'dgs',\n",
       " 'dgt',\n",
       " 'dgv',\n",
       " 'dgw',\n",
       " 'dgy',\n",
       " 'dh',\n",
       " 'dha',\n",
       " 'dhc',\n",
       " 'dhd',\n",
       " 'dhe',\n",
       " 'dhf',\n",
       " 'dhg',\n",
       " 'dhh',\n",
       " 'dhi',\n",
       " 'dhk',\n",
       " 'dhl',\n",
       " 'dhm',\n",
       " 'dhn',\n",
       " 'dhp',\n",
       " 'dhq',\n",
       " 'dhr',\n",
       " 'dhs',\n",
       " 'dht',\n",
       " 'dhv',\n",
       " 'dhw',\n",
       " 'dhy',\n",
       " 'di',\n",
       " 'dia',\n",
       " 'dic',\n",
       " 'did',\n",
       " 'die',\n",
       " 'dif',\n",
       " 'dig',\n",
       " 'dih',\n",
       " 'dii',\n",
       " 'dik',\n",
       " 'dil',\n",
       " 'dim',\n",
       " 'din',\n",
       " 'dip',\n",
       " ...]"
      ]
     },
     "execution_count": 41,
     "metadata": {},
     "output_type": "execute_result"
    }
   ],
   "source": [
    "feature_names = vectorizer.get_feature_names()\n",
    "feature_names"
   ]
  },
  {
   "cell_type": "markdown",
   "metadata": {},
   "source": [
    "Number of extracted features (n-grams):"
   ]
  },
  {
   "cell_type": "code",
   "execution_count": 42,
   "metadata": {},
   "outputs": [
    {
     "data": {
      "text/plain": [
       "8410"
      ]
     },
     "execution_count": 42,
     "metadata": {},
     "output_type": "execute_result"
    }
   ],
   "source": [
    "len(feature_names)"
   ]
  },
  {
   "cell_type": "markdown",
   "metadata": {},
   "source": [
    "Vectorization of training and test set sequences:"
   ]
  },
  {
   "cell_type": "code",
   "execution_count": 43,
   "metadata": {},
   "outputs": [],
   "source": [
    "x_train_vectorized = vectorizer.transform(x_train)\n",
    "x_test_vectorized = vectorizer.transform(x_test)"
   ]
  },
  {
   "cell_type": "code",
   "execution_count": 44,
   "metadata": {},
   "outputs": [
    {
     "data": {
      "text/plain": [
       "(8537, 8410)"
      ]
     },
     "execution_count": 44,
     "metadata": {},
     "output_type": "execute_result"
    }
   ],
   "source": [
    "x_train_vectorized.shape"
   ]
  },
  {
   "cell_type": "code",
   "execution_count": 45,
   "metadata": {},
   "outputs": [
    {
     "data": {
      "text/plain": [
       "(4206, 8410)"
      ]
     },
     "execution_count": 45,
     "metadata": {},
     "output_type": "execute_result"
    }
   ],
   "source": [
    "x_test_vectorized.shape"
   ]
  },
  {
   "cell_type": "markdown",
   "metadata": {},
   "source": [
    "### Model 1 - logistic regression"
   ]
  },
  {
   "cell_type": "markdown",
   "metadata": {},
   "source": [
    "We construct a simple logistic regression model and train it on the now TF-IDF vectorized training set. "
   ]
  },
  {
   "cell_type": "code",
   "execution_count": 46,
   "metadata": {},
   "outputs": [],
   "source": [
    "model1 = linear_model.LogisticRegression()"
   ]
  },
  {
   "cell_type": "code",
   "execution_count": 47,
   "metadata": {},
   "outputs": [
    {
     "data": {
      "text/plain": [
       "LogisticRegression()"
      ]
     },
     "execution_count": 47,
     "metadata": {},
     "output_type": "execute_result"
    }
   ],
   "source": [
    "model1.fit(x_train_vectorized, y_train)"
   ]
  },
  {
   "cell_type": "markdown",
   "metadata": {},
   "source": [
    "Accuracy of the model on the training and test set:"
   ]
  },
  {
   "cell_type": "code",
   "execution_count": 48,
   "metadata": {},
   "outputs": [
    {
     "data": {
      "text/plain": [
       "0.9407285931826168"
      ]
     },
     "execution_count": 48,
     "metadata": {},
     "output_type": "execute_result"
    }
   ],
   "source": [
    "model1.score(x_train_vectorized, y_train)"
   ]
  },
  {
   "cell_type": "code",
   "execution_count": 49,
   "metadata": {},
   "outputs": [
    {
     "data": {
      "text/plain": [
       "0.9415121255349501"
      ]
     },
     "execution_count": 49,
     "metadata": {},
     "output_type": "execute_result"
    }
   ],
   "source": [
    "model1.score(x_test_vectorized, y_test)"
   ]
  },
  {
   "cell_type": "markdown",
   "metadata": {},
   "source": [
    "Confusion matrix:"
   ]
  },
  {
   "cell_type": "code",
   "execution_count": 50,
   "metadata": {},
   "outputs": [],
   "source": [
    "y_test_predicted = model1.predict(x_test_vectorized)"
   ]
  },
  {
   "cell_type": "code",
   "execution_count": 51,
   "metadata": {},
   "outputs": [
    {
     "data": {
      "text/plain": [
       "array([[1220,  177],\n",
       "       [  69, 2740]])"
      ]
     },
     "execution_count": 51,
     "metadata": {},
     "output_type": "execute_result"
    }
   ],
   "source": [
    "metrics.confusion_matrix(y_test, y_test_predicted)"
   ]
  },
  {
   "cell_type": "markdown",
   "metadata": {},
   "source": [
    "### Model 2 - linear SVM"
   ]
  },
  {
   "cell_type": "markdown",
   "metadata": {},
   "source": [
    "We construct a linear SVM (Support Vector Machine) model and train it on the now TF-IDF vectorized training set. "
   ]
  },
  {
   "cell_type": "code",
   "execution_count": 52,
   "metadata": {},
   "outputs": [],
   "source": [
    "model2 = svm.LinearSVC()"
   ]
  },
  {
   "cell_type": "code",
   "execution_count": 53,
   "metadata": {},
   "outputs": [
    {
     "data": {
      "text/plain": [
       "LinearSVC()"
      ]
     },
     "execution_count": 53,
     "metadata": {},
     "output_type": "execute_result"
    }
   ],
   "source": [
    "model2.fit(x_train_vectorized, y_train)"
   ]
  },
  {
   "cell_type": "markdown",
   "metadata": {},
   "source": [
    "Accuracy of the model on the training and test set:"
   ]
  },
  {
   "cell_type": "code",
   "execution_count": 54,
   "metadata": {},
   "outputs": [
    {
     "data": {
      "text/plain": [
       "0.9662644957244934"
      ]
     },
     "execution_count": 54,
     "metadata": {},
     "output_type": "execute_result"
    }
   ],
   "source": [
    "model2.score(x_train_vectorized, y_train)"
   ]
  },
  {
   "cell_type": "code",
   "execution_count": 55,
   "metadata": {},
   "outputs": [
    {
     "data": {
      "text/plain": [
       "0.9443651925820257"
      ]
     },
     "execution_count": 55,
     "metadata": {},
     "output_type": "execute_result"
    }
   ],
   "source": [
    "model2.score(x_test_vectorized, y_test)"
   ]
  },
  {
   "cell_type": "markdown",
   "metadata": {},
   "source": [
    "Confusion matrix:"
   ]
  },
  {
   "cell_type": "code",
   "execution_count": 56,
   "metadata": {},
   "outputs": [],
   "source": [
    "y_test_predicted = model2.predict(x_test_vectorized)"
   ]
  },
  {
   "cell_type": "code",
   "execution_count": 57,
   "metadata": {},
   "outputs": [
    {
     "data": {
      "text/plain": [
       "array([[1234,  163],\n",
       "       [  71, 2738]])"
      ]
     },
     "execution_count": 57,
     "metadata": {},
     "output_type": "execute_result"
    }
   ],
   "source": [
    "metrics.confusion_matrix(y_test, y_test_predicted)"
   ]
  },
  {
   "cell_type": "markdown",
   "metadata": {},
   "source": [
    "### Model 3 - k nearest neighbors"
   ]
  },
  {
   "cell_type": "markdown",
   "metadata": {},
   "source": [
    "We construct a k nearest neighbors classifier (observing the 4 nearest neighbors) and train it on the now TF-IDF vectorized training set."
   ]
  },
  {
   "cell_type": "code",
   "execution_count": 58,
   "metadata": {},
   "outputs": [],
   "source": [
    "model3 = neighbors.KNeighborsClassifier(n_neighbors=4)"
   ]
  },
  {
   "cell_type": "code",
   "execution_count": 59,
   "metadata": {},
   "outputs": [
    {
     "data": {
      "text/plain": [
       "KNeighborsClassifier(n_neighbors=4)"
      ]
     },
     "execution_count": 59,
     "metadata": {},
     "output_type": "execute_result"
    }
   ],
   "source": [
    "model3.fit(x_train_vectorized, y_train)"
   ]
  },
  {
   "cell_type": "markdown",
   "metadata": {},
   "source": [
    "Accuracy of the model on the training and test set:"
   ]
  },
  {
   "cell_type": "code",
   "execution_count": 60,
   "metadata": {},
   "outputs": [
    {
     "data": {
      "text/plain": [
       "0.9195267658428019"
      ]
     },
     "execution_count": 60,
     "metadata": {},
     "output_type": "execute_result"
    }
   ],
   "source": [
    "model3.score(x_train_vectorized, y_train)"
   ]
  },
  {
   "cell_type": "code",
   "execution_count": 61,
   "metadata": {},
   "outputs": [
    {
     "data": {
      "text/plain": [
       "0.8725630052306229"
      ]
     },
     "execution_count": 61,
     "metadata": {},
     "output_type": "execute_result"
    }
   ],
   "source": [
    "model3.score(x_test_vectorized, y_test)"
   ]
  },
  {
   "cell_type": "markdown",
   "metadata": {},
   "source": [
    "Confusion matrix:"
   ]
  },
  {
   "cell_type": "code",
   "execution_count": 62,
   "metadata": {},
   "outputs": [],
   "source": [
    "y_test_predicted = model3.predict(x_test_vectorized)"
   ]
  },
  {
   "cell_type": "code",
   "execution_count": 63,
   "metadata": {},
   "outputs": [
    {
     "data": {
      "text/plain": [
       "array([[ 911,  486],\n",
       "       [  50, 2759]])"
      ]
     },
     "execution_count": 63,
     "metadata": {},
     "output_type": "execute_result"
    }
   ],
   "source": [
    "metrics.confusion_matrix(y_test, y_test_predicted)"
   ]
  },
  {
   "cell_type": "markdown",
   "metadata": {},
   "source": [
    "# Analysis of constructed models"
   ]
  },
  {
   "cell_type": "markdown",
   "metadata": {},
   "source": [
    "### Detection of the most relevant n-grams for disorder-order classification (i.e. model interpretation)"
   ]
  },
  {
   "cell_type": "markdown",
   "metadata": {},
   "source": [
    "Following function visualizes the coefficients of the model <code>classifier</code>, i.e. the corresponding features (n-grams) <code>feature_names</code> showing only the <code>n_top_features</code> features (n-grams) that are most relevant for predicting the negative (disorder) and positive (order) classes. For the title of the graph will be set <code>title</code>."
   ]
  },
  {
   "cell_type": "code",
   "execution_count": 64,
   "metadata": {},
   "outputs": [],
   "source": [
    "def visualize_coefficients(title, classifier, feature_names, n_top_features=25):\n",
    "    coefs = classifier.coef_.ravel()\n",
    "    \n",
    "    negative_coefs_indices = np.argsort(coefs)[:n_top_features]\n",
    "    positive_coefs_indices = np.argsort(coefs)[-n_top_features:]\n",
    "    \n",
    "    most_decisive_coefs_indices = np.hstack([negative_coefs_indices, positive_coefs_indices])\n",
    "    most_decisive_coefs = coefs[most_decisive_coefs_indices]\n",
    "    \n",
    "    plt.figure(figsize=(15, 5))\n",
    "    plt.title(title)\n",
    "    colors = ['orange' if c < 0 else 'cadetblue' for c in most_decisive_coefs]\n",
    "    plt.bar(np.arange(2*n_top_features), most_decisive_coefs, color=colors)\n",
    "    \n",
    "    most_decisive_feature_names = np.array(feature_names)[most_decisive_coefs_indices]\n",
    "    plt.xticks(np.arange(2*n_top_features), most_decisive_feature_names, rotation='vertical')"
   ]
  },
  {
   "cell_type": "code",
   "execution_count": 65,
   "metadata": {},
   "outputs": [
    {
     "data": {
      "image/png": "[encoded data removed]",
      "text/plain": [
       "<Figure size 1080x360 with 1 Axes>"
      ]
     },
     "metadata": {
      "needs_background": "light"
     },
     "output_type": "display_data"
    }
   ],
   "source": [
    "visualize_coefficients('TF-IDF reprsentations and logistic regression model', model1, feature_names)"
   ]
  },
  {
   "cell_type": "code",
   "execution_count": 66,
   "metadata": {},
   "outputs": [
    {
     "data": {
      "image/png": "[encoded data removed]",
      "text/plain": [
       "<Figure size 1080x360 with 1 Axes>"
      ]
     },
     "metadata": {
      "needs_background": "light"
     },
     "output_type": "display_data"
    }
   ],
   "source": [
    "visualize_coefficients('TF-IDF representations and linear SVM model', model2, feature_names)"
   ]
  },
  {
   "cell_type": "markdown",
   "metadata": {},
   "source": [
    "Model k nearest neighbors does not have an explicit form, that is, it is not determined by some coefficients, so we cannot get to the most relevant words in this way.\n",
    "\n",
    "This analysis can as well be performed for models trained on Bag of Words representations of protein sequences."
   ]
  },
  {
   "cell_type": "markdown",
   "metadata": {},
   "source": [
    "## Comparing the classification accuracy of all 6 models"
   ]
  },
  {
   "cell_type": "markdown",
   "metadata": {},
   "source": [
    "<img src=\"assets/comparing_models.png\" width=750 align=\"left\">"
   ]
  }
 ],
 "metadata": {
  "kernelspec": {
   "display_name": "Python 3",
   "language": "python",
   "name": "python3"
  },
  "language_info": {
   "codemirror_mode": {
    "name": "ipython",
    "version": 3
   },
   "file_extension": ".py",
   "mimetype": "text/x-python",
   "name": "python",
   "nbconvert_exporter": "python",
   "pygments_lexer": "ipython3",
   "version": "3.8.10"
  }
 },
 "nbformat": 4,
 "nbformat_minor": 4
}
